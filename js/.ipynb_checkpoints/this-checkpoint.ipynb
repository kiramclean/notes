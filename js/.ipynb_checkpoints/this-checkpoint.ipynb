{
 "cells": [
  {
   "cell_type": "markdown",
   "metadata": {},
   "source": [
    "# What the Hell is `this`\n",
    "\n",
    "- allows us to reuse the same function in different contexts\n",
    "- you don't know what `this` is in a function until that function is invoked\n",
    "- to figure out what `this` is check the place where the function was invoked from\n",
    "\n",
    "## Implicit Binding\n",
    "**`this` is whatever is left of the dot when the function was called**\n"
   ]
  },
  {
   "cell_type": "code",
   "execution_count": 1,
   "metadata": {
    "collapsed": false
   },
   "outputs": [
    {
     "data": {
      "text/plain": [
       "undefined"
      ]
     },
     "execution_count": 1,
     "metadata": {},
     "output_type": "execute_result"
    }
   ],
   "source": [
    "let me = {\n",
    "  name: 'Kira',\n",
    "  age: 25,\n",
    "  sayName() {\n",
    "    console.log(this.name)\n",
    "  },\n",
    "  brother: {\n",
    "    name: 'Colin',\n",
    "    sayName() {\n",
    "      console.log(this.name)\n",
    "    }\n",
    "  }\n",
    "}"
   ]
  },
  {
   "cell_type": "code",
   "execution_count": 2,
   "metadata": {
    "collapsed": false
   },
   "outputs": [
    {
     "name": "stdout",
     "output_type": "stream",
     "text": [
      "Kira\n"
     ]
    },
    {
     "data": {
      "text/plain": [
       "undefined"
      ]
     },
     "execution_count": 2,
     "metadata": {},
     "output_type": "execute_result"
    }
   ],
   "source": [
    "me.sayName()"
   ]
  },
  {
   "cell_type": "code",
   "execution_count": 3,
   "metadata": {
    "collapsed": false
   },
   "outputs": [
    {
     "name": "stdout",
     "output_type": "stream",
     "text": [
      "Colin\n"
     ]
    },
    {
     "data": {
      "text/plain": [
       "undefined"
      ]
     },
     "execution_count": 3,
     "metadata": {},
     "output_type": "execute_result"
    }
   ],
   "source": [
    "me.brother.sayName()"
   ]
  },
  {
   "cell_type": "markdown",
   "metadata": {},
   "source": [
    "## Explicit Binding\n",
    "**`this` is the explicit first argument to `.call`, `.apply`, or `.bind`**\n",
    "### `.call`\n",
    "- use on any method and pass it a context to tell it what `this` is\n",
    "- subsequent arguments are passed on to the function as normal arguments\n",
    "- invokes the function immediately"
   ]
  },
  {
   "cell_type": "code",
   "execution_count": 1,
   "metadata": {
    "collapsed": false
   },
   "outputs": [
    {
     "data": {
      "text/plain": [
       "'use strict'"
      ]
     },
     "execution_count": 1,
     "metadata": {},
     "output_type": "execute_result"
    }
   ],
   "source": [
    "let me = {\n",
    "  name: 'Kira',\n",
    "  age: 25,\n",
    "}\n",
    "\n",
    "let sayName = function(lang1, lang2, lang3) {\n",
    "  console.log(this.name)\n",
    "  console.log(lang1, lang2, lang3)\n",
    "}"
   ]
  },
  {
   "cell_type": "code",
   "execution_count": 3,
   "metadata": {
    "collapsed": false
   },
   "outputs": [
    {
     "name": "stdout",
     "output_type": "stream",
     "text": [
      "Kira\n",
      "JavaScript Ruby Elixir\n"
     ]
    }
   ],
   "source": [
    "sayName.call(me, 'JavaScript', 'Ruby', 'Elixir')"
   ]
  },
  {
   "cell_type": "markdown",
   "metadata": {},
   "source": [
    "### `.apply`\n",
    "- pass in an array that will be applied as arguments to the function automatically, sort of a splat operator\n",
    "- also invokes the function immediately"
   ]
  },
  {
   "cell_type": "code",
   "execution_count": 4,
   "metadata": {
    "collapsed": false
   },
   "outputs": [
    {
     "data": {
      "text/plain": [
       "'use strict'"
      ]
     },
     "execution_count": 4,
     "metadata": {},
     "output_type": "execute_result"
    }
   ],
   "source": [
    "let languages = ['JavaScript', 'Ruby', 'Elixir']"
   ]
  },
  {
   "cell_type": "code",
   "execution_count": 5,
   "metadata": {
    "collapsed": false
   },
   "outputs": [
    {
     "name": "stdout",
     "output_type": "stream",
     "text": [
      "Kira\n",
      "JavaScript Ruby Elixir\n"
     ]
    }
   ],
   "source": [
    "sayName.apply(me, languages)"
   ]
  },
  {
   "cell_type": "markdown",
   "metadata": {},
   "source": [
    "### `.bind`\n",
    "- returns a new function bound to the given context that can be invoked later, instead of invoking the function when it is called"
   ]
  },
  {
   "cell_type": "code",
   "execution_count": 6,
   "metadata": {
    "collapsed": false
   },
   "outputs": [
    {
     "data": {
      "text/plain": [
       "'use strict'"
      ]
     },
     "execution_count": 6,
     "metadata": {},
     "output_type": "execute_result"
    }
   ],
   "source": [
    "let newFunction = sayName.bind(me, 'JavaScript', 'Ruby', 'Elixir')"
   ]
  },
  {
   "cell_type": "code",
   "execution_count": 7,
   "metadata": {
    "collapsed": false
   },
   "outputs": [
    {
     "name": "stdout",
     "output_type": "stream",
     "text": [
      "Kira\n",
      "JavaScript Ruby Elixir\n"
     ]
    }
   ],
   "source": [
    "newFunction()"
   ]
  },
  {
   "cell_type": "markdown",
   "metadata": {},
   "source": [
    "## `new` Binding\n",
    "**`this` is bound to the new object being constructed**\n",
    "\n",
    "- capital letter indicates a constructor function, to be called with the `new` keyword"
   ]
  },
  {
   "cell_type": "code",
   "execution_count": 8,
   "metadata": {
    "collapsed": false
   },
   "outputs": [
    {
     "data": {
      "text/plain": [
       "'use strict'"
      ]
     },
     "execution_count": 8,
     "metadata": {},
     "output_type": "execute_result"
    }
   ],
   "source": [
    "let Animal = function(color, name, type) {\n",
    "  this.color = color\n",
    "  this.name = name\n",
    "  this.type = type\n",
    "}\n",
    "\n",
    "let zebra = new Animal('black and white', 'Zorro', 'zebra')"
   ]
  },
  {
   "cell_type": "code",
   "execution_count": 9,
   "metadata": {
    "collapsed": false
   },
   "outputs": [
    {
     "data": {
      "text/plain": [
       "Animal { color: 'black and white', name: 'Zorro', type: 'zebra' }"
      ]
     },
     "execution_count": 9,
     "metadata": {},
     "output_type": "execute_result"
    }
   ],
   "source": [
    "zebra"
   ]
  },
  {
   "cell_type": "markdown",
   "metadata": {},
   "source": [
    "## `window` Binding\n",
    "**`this` defaults to the `window` object if none of the above apply**"
   ]
  },
  {
   "cell_type": "code",
   "execution_count": 18,
   "metadata": {
    "collapsed": false
   },
   "outputs": [
    {
     "data": {
      "text/plain": [
       "'use strict'"
      ]
     },
     "execution_count": 18,
     "metadata": {},
     "output_type": "execute_result"
    }
   ],
   "source": [
    "let me = {\n",
    "  age: 25\n",
    "}\n",
    "\n",
    "let sayAge = function() {\n",
    "  console.log(this.age)\n",
    "}"
   ]
  },
  {
   "cell_type": "code",
   "execution_count": 19,
   "metadata": {
    "collapsed": false
   },
   "outputs": [
    {
     "ename": "TypeError",
     "evalue": "Cannot read property 'age' of undefined",
     "output_type": "error",
     "traceback": [
      "TypeError: Cannot read property 'age' of undefined",
      "    at sayAge (evalmachine.<anonymous>:8:19)",
      "    at evalmachine.<anonymous>:3:1",
      "    at ContextifyScript.Script.runInThisContext (vm.js:25:33)",
      "    at Object.exports.runInThisContext (vm.js:77:17)",
      "    at run ([eval]:608:19)",
      "    at onRunRequest ([eval]:379:22)",
      "    at onMessage ([eval]:347:17)",
      "    at emitTwo (events.js:106:13)",
      "    at process.emit (events.js:191:7)",
      "    at process.nextTick (internal/child_process.js:744:12)"
     ]
    }
   ],
   "source": [
    "sayAge()"
   ]
  },
  {
   "cell_type": "markdown",
   "metadata": {
    "collapsed": false
   },
   "source": [
    "- old versions of javascript would let you do this:\n",
    "\n",
    "`window.age = 35  // for illustration only, never do this`\n",
    "\n",
    "```js\n",
    "> sayAge()\n",
    "< 35\n",
    "```"
   ]
  },
  {
   "cell_type": "markdown",
   "metadata": {},
   "source": [
    "- can `'use strict'` to get javascript to enforce better practices\n",
    "- default in ES6"
   ]
  },
  {
   "cell_type": "code",
   "execution_count": 20,
   "metadata": {
    "collapsed": false
   },
   "outputs": [
    {
     "data": {
      "text/plain": [
       "'use strict'"
      ]
     },
     "execution_count": 20,
     "metadata": {},
     "output_type": "execute_result"
    }
   ],
   "source": [
    "let sayAgeAgain = function() {\n",
    "  'use strict'\n",
    "  console.log(this.age)\n",
    "}"
   ]
  },
  {
   "cell_type": "code",
   "execution_count": 21,
   "metadata": {
    "collapsed": false
   },
   "outputs": [
    {
     "ename": "TypeError",
     "evalue": "Cannot set property 'age' of undefined",
     "output_type": "error",
     "traceback": [
      "TypeError: Cannot set property 'age' of undefined",
      "    at evalmachine.<anonymous>:3:15",
      "    at ContextifyScript.Script.runInThisContext (vm.js:25:33)",
      "    at Object.exports.runInThisContext (vm.js:77:17)",
      "    at run ([eval]:608:19)",
      "    at onRunRequest ([eval]:379:22)",
      "    at onMessage ([eval]:347:17)",
      "    at emitTwo (events.js:106:13)",
      "    at process.emit (events.js:191:7)",
      "    at process.nextTick (internal/child_process.js:744:12)",
      "    at _combinedTickCallback (internal/process/next_tick.js:67:7)"
     ]
    }
   ],
   "source": [
    "this.age = 35 \n",
    "// equivalent to window.age = 35 in a normal (not jupyter kernel) context\n",
    "// for illustration only, never do this"
   ]
  },
  {
   "cell_type": "code",
   "execution_count": 22,
   "metadata": {
    "collapsed": false
   },
   "outputs": [
    {
     "ename": "TypeError",
     "evalue": "Cannot read property 'age' of undefined",
     "output_type": "error",
     "traceback": [
      "TypeError: Cannot read property 'age' of undefined",
      "    at sayAgeAgain (evalmachine.<anonymous>:6:19)",
      "    at evalmachine.<anonymous>:3:1",
      "    at ContextifyScript.Script.runInThisContext (vm.js:25:33)",
      "    at Object.exports.runInThisContext (vm.js:77:17)",
      "    at run ([eval]:608:19)",
      "    at onRunRequest ([eval]:379:22)",
      "    at onMessage ([eval]:347:17)",
      "    at emitTwo (events.js:106:13)",
      "    at process.emit (events.js:191:7)",
      "    at process.nextTick (internal/child_process.js:744:12)"
     ]
    }
   ],
   "source": [
    "sayAgeAgain()"
   ]
  },
  {
   "cell_type": "markdown",
   "metadata": {},
   "source": [
    "- javascript knows you shouldn't be accessing the `window` object directly so it won't even let you with `'use strict'`\n"
   ]
  }
 ],
 "metadata": {
  "kernelspec": {
   "display_name": "Babel (Node.js)",
   "language": "babel",
   "name": "babel"
  },
  "language_info": {
   "file_extension": ".js",
   "mimetype": "application/javascript",
   "name": "javascript",
   "version": "6.5.0"
  }
 },
 "nbformat": 4,
 "nbformat_minor": 1
}
