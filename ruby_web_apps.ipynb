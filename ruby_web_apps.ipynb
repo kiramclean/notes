{
 "cells": [
  {
   "cell_type": "markdown",
   "metadata": {},
   "source": [
    "# Ruby Web Apps\n",
    "### Owning Rails"
   ]
  },
  {
   "cell_type": "markdown",
   "metadata": {},
   "source": [
    " ## General notes on ruby\n",
    " - Everything in ruby is an object, which means you can call methods on anything (strings, fixnums, ints, etc.)\n",
    " - You can send methods dynamically using .send(:method_name)\n",
    " - You can write anything you want in the body of a class, including a method that applies to the class itself\n",
    "   - To write a class method, prepend it with self.\n",
    " - `extend` adds all methods in the module as class level methods\n",
    " - `include` adds all methods in the module as instance level methods\n",
    " - Procs are objects like everything else and are used to wrap blocks so you can access them\n",
    "   - Blocks are one thing that are NOT objects in ruby -- means you can't call methods on them\n",
    " - Lambdas check the arguments (and number of arguments) passed to them, procs don't\n",
    " - Lambdas return where `return` is called (i.e. exit the lambda), procs return from the enclosing method\n",
    " - `yield` keyword executes a block passed to a method"
   ]
  },
  {
   "cell_type": "markdown",
   "metadata": {},
   "source": [
    "## Active Record\n",
    " - Each table in the database should correspond to a class in your app\n"
   ]
  },
  {
   "cell_type": "markdown",
   "metadata": {},
   "source": [
    "## Taking advantage of Ruby's capabilities\n",
    "\n",
    "- Ruby's powers make it an ideal language for meta programming and DSLs, like the one used by Rails' router:"
   ]
  },
  {
   "cell_type": "code",
   "execution_count": 8,
   "metadata": {
    "collapsed": false
   },
   "outputs": [
    {
     "name": "stdout",
     "output_type": "stream",
     "text": [
      "{}\n",
      "{\"/users\"=>\"users#index\", \"/login\"=>\"sessions#new\"}\n"
     ]
    },
    {
     "data": {
      "text/plain": [
       "{\"/users\"=>\"users#index\", \"/login\"=>\"sessions#new\"}"
      ]
     },
     "execution_count": 8,
     "metadata": {},
     "output_type": "execute_result"
    }
   ],
   "source": [
    "class Router\n",
    "  def initialize\n",
    "    @routes = {}\n",
    "  end\n",
    "  \n",
    "  def match(route)\n",
    "    @routes.update route\n",
    "  end\n",
    "  \n",
    "  def routes(&block)\n",
    "    instance_eval(&block)\n",
    "    p @routes\n",
    "  end\n",
    "end\n",
    "\n",
    "Router.new.instance_eval { p @routes }\n",
    "\n",
    "Router.new.routes do\n",
    "  match '/users' => 'users#index'\n",
    "  match '/login' => 'sessions#new'\n",
    "end"
   ]
  },
  {
   "cell_type": "markdown",
   "metadata": {},
   "source": [
    "## Rack and the minimum required spec for a ruby app to run on a ruby web server\n",
    "\n",
    "- Environment hash in, response out\n",
    "- `.call` gets passed the request info as a hash\n",
    "- The app has to return an array of params as the response to the web server, which gets parsed into a web page, including:\n",
    "    - HTTP status code\n",
    "    - Headers (hash)\n",
    "    - Body\n",
    "        - Must respond to `.each` as per rack specs, so we use an array in Ruby, because Ruby strings do not respond to `.each`\n",
    "        \n",
    "```ruby\n",
    "class MyApp\n",
    "  def call(env)\n",
    "    [ 200,\n",
    "      { 'Content-Type' => 'text/plain' },\n",
    "      ['you requested ' + env['PATH_INFO']]\n",
    "    ]\n",
    "  end\n",
    "end\n",
    "```"
   ]
  },
  {
   "cell_type": "markdown",
   "metadata": {},
   "source": [
    "## Minimum viable Ruby web server\n",
    "- All Ruby web servers (unicorn, puma, etc.) perform 4 basic steps\n",
    "- Difference between servers lies in how they process concurrent requests"
   ]
  },
  {
   "cell_type": "markdown",
   "metadata": {},
   "source": [
    "1. Read data sent by browser\n",
    "2. Parse data to a Hash\n",
    "3. Call the rack app\n",
    "4. Send the response to the browser with proper encoding\n",
    "\n",
    "```ruby\n",
    "class Server\n",
    "  def process_request(socket)\n",
    "    data = socket.read\n",
    "    \n",
    "    env = parse(data)\n",
    "    \n",
    "    status, headers, body = app.call(env)\n",
    "    \n",
    "    socket.write \"HTTP/1.1 #{status} ...\"\n",
    "  end\n",
    "end\n",
    "```"
   ]
  },
  {
   "cell_type": "markdown",
   "metadata": {},
   "source": [
    "- Rack-based servers use `config.ru` to start your app\n",
    "- Has access to some special methods given by Rack (like `run`)\n",
    "\n",
    "```ruby\n",
    "require ::File.expand_path('../config/environment', __FILE__)\n",
    "run Rails.application\n",
    "```"
   ]
  },
  {
   "cell_type": "code",
   "execution_count": null,
   "metadata": {
    "collapsed": true
   },
   "outputs": [],
   "source": []
  }
 ],
 "metadata": {
  "kernelspec": {
   "display_name": "Ruby 2.3.0",
   "language": "ruby",
   "name": "ruby"
  },
  "language_info": {
   "file_extension": ".rb",
   "mimetype": "application/x-ruby",
   "name": "ruby",
   "version": "2.3.0"
  }
 },
 "nbformat": 4,
 "nbformat_minor": 0
}
